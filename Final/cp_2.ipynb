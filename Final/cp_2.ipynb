{
 "cells": [
  {
   "cell_type": "code",
   "execution_count": 1,
   "metadata": {},
   "outputs": [],
   "source": [
    "import numpy as np\n",
    "from keras.datasets import mnist\n",
    "from keras.layers import Dense, Dropout, Flatten, Conv2D, MaxPooling2D\n",
    "from keras.models import Sequential\n",
    "from keras.utils import np_utils\n",
    "import matplotlib.pyplot as plt"
   ]
  },
  {
   "cell_type": "code",
   "execution_count": 2,
   "metadata": {},
   "outputs": [],
   "source": [
    "(X_train, y_train), (X_test, y_test) = mnist.load_data()"
   ]
  },
  {
   "cell_type": "code",
   "execution_count": 3,
   "metadata": {},
   "outputs": [],
   "source": [
    "#preprocessing\n",
    "X_train = X_train.reshape(X_train.shape[0], 28, 28, 1).astype('float32')\n",
    "X_test = X_test.reshape(X_test.shape[0], 28, 28, 1).astype('float32')\n",
    "X_train /= 255\n",
    "X_test /= 255\n",
    "y_train = np_utils.to_categorical(y_train, 10)\n",
    "y_test = np_utils.to_categorical(y_test, 10)"
   ]
  },
  {
   "cell_type": "code",
   "execution_count": 4,
   "metadata": {},
   "outputs": [],
   "source": [
    "#base model\n",
    "base_model = Sequential()\n",
    "base_model.add(Conv2D(32, (3, 3), activation='relu', input_shape=(28, 28, 1)))\n",
    "base_model.add(MaxPooling2D(pool_size=(2, 2)))\n",
    "base_model.add(Flatten())\n",
    "base_model.add(Dense(128, activation='relu'))\n",
    "base_model.add(Dropout(0.5))\n",
    "base_model.add(Dense(10, activation='softmax'))\n",
    "base_model.compile(loss='categorical_crossentropy', optimizer='adam', metrics=['accuracy'])"
   ]
  },
  {
   "cell_type": "code",
   "execution_count": 5,
   "metadata": {},
   "outputs": [
    {
     "name": "stdout",
     "output_type": "stream",
     "text": [
      "Epoch 1/10\n",
      "469/469 [==============================] - 23s 47ms/step - loss: 0.3353 - accuracy: 0.9014 - val_loss: 0.0885 - val_accuracy: 0.9729\n",
      "Epoch 2/10\n",
      "469/469 [==============================] - 25s 53ms/step - loss: 0.1212 - accuracy: 0.9649 - val_loss: 0.0591 - val_accuracy: 0.9808\n",
      "Epoch 3/10\n",
      "469/469 [==============================] - 21s 44ms/step - loss: 0.0864 - accuracy: 0.9747 - val_loss: 0.0491 - val_accuracy: 0.9835\n",
      "Epoch 4/10\n",
      "469/469 [==============================] - 22s 48ms/step - loss: 0.0726 - accuracy: 0.9789 - val_loss: 0.0465 - val_accuracy: 0.9836\n",
      "Epoch 5/10\n",
      "469/469 [==============================] - 21s 44ms/step - loss: 0.0619 - accuracy: 0.9817 - val_loss: 0.0440 - val_accuracy: 0.9846\n",
      "Epoch 6/10\n",
      "469/469 [==============================] - 21s 44ms/step - loss: 0.0540 - accuracy: 0.9834 - val_loss: 0.0419 - val_accuracy: 0.9862\n",
      "Epoch 7/10\n",
      "469/469 [==============================] - 19s 41ms/step - loss: 0.0475 - accuracy: 0.9849 - val_loss: 0.0398 - val_accuracy: 0.9872\n",
      "Epoch 8/10\n",
      "469/469 [==============================] - 20s 42ms/step - loss: 0.0443 - accuracy: 0.9859 - val_loss: 0.0391 - val_accuracy: 0.9874\n",
      "Epoch 9/10\n",
      "469/469 [==============================] - 20s 42ms/step - loss: 0.0393 - accuracy: 0.9875 - val_loss: 0.0376 - val_accuracy: 0.9881\n",
      "Epoch 10/10\n",
      "469/469 [==============================] - 22s 47ms/step - loss: 0.0357 - accuracy: 0.9887 - val_loss: 0.0390 - val_accuracy: 0.9887\n"
     ]
    }
   ],
   "source": [
    "base_history = base_model.fit(X_train, y_train, batch_size=128, epochs=10, verbose=1, validation_data=(X_test, y_test))"
   ]
  },
  {
   "cell_type": "code",
   "execution_count": 6,
   "metadata": {},
   "outputs": [],
   "source": [
    "#frozen model\n",
    "frozen_model = Sequential()\n",
    "frozen_model.add(Conv2D(32, (3, 3), activation='relu', input_shape=(28, 28, 1), trainable=False))\n",
    "frozen_model.add(MaxPooling2D(pool_size=(2, 2)))\n",
    "frozen_model.add(Flatten())\n",
    "frozen_model.add(Dense(128, activation='relu', trainable=False))\n",
    "frozen_model.add(Dropout(0.5, trainable=False))\n",
    "frozen_model.add(Dense(10, activation='softmax'))\n",
    "frozen_model.compile(loss='categorical_crossentropy', optimizer='adam', metrics=['accuracy'])\n"
   ]
  },
  {
   "cell_type": "code",
   "execution_count": 7,
   "metadata": {},
   "outputs": [
    {
     "name": "stdout",
     "output_type": "stream",
     "text": [
      "Epoch 1/10\n",
      "469/469 [==============================] - 8s 15ms/step - loss: 2.0422 - accuracy: 0.4733 - val_loss: 1.7902 - val_accuracy: 0.7505\n",
      "Epoch 2/10\n",
      "469/469 [==============================] - 7s 15ms/step - loss: 1.6599 - accuracy: 0.6424 - val_loss: 1.4538 - val_accuracy: 0.7932\n",
      "Epoch 3/10\n",
      "469/469 [==============================] - 7s 14ms/step - loss: 1.4202 - accuracy: 0.6717 - val_loss: 1.2283 - val_accuracy: 0.8115\n",
      "Epoch 4/10\n",
      "469/469 [==============================] - 7s 16ms/step - loss: 1.2669 - accuracy: 0.6852 - val_loss: 1.0733 - val_accuracy: 0.8273\n",
      "Epoch 5/10\n",
      "469/469 [==============================] - 7s 15ms/step - loss: 1.1671 - accuracy: 0.6961 - val_loss: 0.9618 - val_accuracy: 0.8364\n",
      "Epoch 6/10\n",
      "469/469 [==============================] - 7s 14ms/step - loss: 1.0923 - accuracy: 0.7023 - val_loss: 0.8781 - val_accuracy: 0.8430\n",
      "Epoch 7/10\n",
      "469/469 [==============================] - 7s 15ms/step - loss: 1.0389 - accuracy: 0.7071 - val_loss: 0.8139 - val_accuracy: 0.8474\n",
      "Epoch 8/10\n",
      "469/469 [==============================] - 7s 14ms/step - loss: 0.9931 - accuracy: 0.7162 - val_loss: 0.7627 - val_accuracy: 0.8510\n",
      "Epoch 9/10\n",
      "469/469 [==============================] - 7s 14ms/step - loss: 0.9566 - accuracy: 0.7218 - val_loss: 0.7210 - val_accuracy: 0.8540\n",
      "Epoch 10/10\n",
      "469/469 [==============================] - 7s 14ms/step - loss: 0.9351 - accuracy: 0.7217 - val_loss: 0.6876 - val_accuracy: 0.8583\n"
     ]
    }
   ],
   "source": [
    "frozen_history = frozen_model.fit(X_train, y_train, batch_size=128, epochs=10, verbose=1, validation_data=(X_test, y_test))"
   ]
  },
  {
   "cell_type": "code",
   "execution_count": 8,
   "metadata": {},
   "outputs": [],
   "source": [
    "#unfrozen model\n",
    "unfrozen_model = Sequential()\n",
    "unfrozen_model.add(Conv2D(32, (3, 3), activation='relu', input_shape=(28, 28, 1), trainable=False))\n",
    "unfrozen_model.add(MaxPooling2D(pool_size=(2, 2)))\n",
    "unfrozen_model.add(Flatten())\n",
    "unfrozen_model.add(Dense(128, activation='relu', trainable=True))\n",
    "unfrozen_model.add(Dropout(0.5, trainable=True))\n",
    "unfrozen_model.add(Dense(10, activation='softmax'))\n",
    "unfrozen_model.compile(loss='categorical_crossentropy', optimizer='adam', metrics=['accuracy'])"
   ]
  },
  {
   "cell_type": "code",
   "execution_count": 9,
   "metadata": {},
   "outputs": [
    {
     "name": "stdout",
     "output_type": "stream",
     "text": [
      "Epoch 1/10\n",
      "469/469 [==============================] - 13s 26ms/step - loss: 0.4194 - accuracy: 0.8812 - val_loss: 0.1606 - val_accuracy: 0.9549\n",
      "Epoch 2/10\n",
      "469/469 [==============================] - 14s 30ms/step - loss: 0.1982 - accuracy: 0.9421 - val_loss: 0.1057 - val_accuracy: 0.9703\n",
      "Epoch 3/10\n",
      "469/469 [==============================] - 13s 28ms/step - loss: 0.1494 - accuracy: 0.9568 - val_loss: 0.0829 - val_accuracy: 0.9749\n",
      "Epoch 4/10\n",
      "469/469 [==============================] - 13s 28ms/step - loss: 0.1229 - accuracy: 0.9644 - val_loss: 0.0710 - val_accuracy: 0.9784\n",
      "Epoch 5/10\n",
      "469/469 [==============================] - 13s 28ms/step - loss: 0.1070 - accuracy: 0.9685 - val_loss: 0.0637 - val_accuracy: 0.9806\n",
      "Epoch 6/10\n",
      "469/469 [==============================] - 13s 28ms/step - loss: 0.0927 - accuracy: 0.9725 - val_loss: 0.0592 - val_accuracy: 0.9819\n",
      "Epoch 7/10\n",
      "469/469 [==============================] - 13s 28ms/step - loss: 0.0868 - accuracy: 0.9743 - val_loss: 0.0558 - val_accuracy: 0.9823\n",
      "Epoch 8/10\n",
      "469/469 [==============================] - 13s 28ms/step - loss: 0.0798 - accuracy: 0.9751 - val_loss: 0.0560 - val_accuracy: 0.9811\n",
      "Epoch 9/10\n",
      "469/469 [==============================] - 13s 28ms/step - loss: 0.0730 - accuracy: 0.9779 - val_loss: 0.0527 - val_accuracy: 0.9834\n",
      "Epoch 10/10\n",
      "469/469 [==============================] - 13s 29ms/step - loss: 0.0700 - accuracy: 0.9783 - val_loss: 0.0468 - val_accuracy: 0.9847\n"
     ]
    }
   ],
   "source": [
    "unfrozen_history = unfrozen_model.fit(X_train, y_train, batch_size=128, epochs=10, verbose=1, validation_data=(X_test, y_test))"
   ]
  },
  {
   "cell_type": "code",
   "execution_count": 10,
   "metadata": {},
   "outputs": [
    {
     "data": {
      "image/png": "[encoded data removed]",
      "text/plain": [
       "<Figure size 640x480 with 1 Axes>"
      ]
     },
     "metadata": {},
     "output_type": "display_data"
    }
   ],
   "source": [
    "plt.plot(base_history.history['val_accuracy'], label='Base Model')\n",
    "plt.plot(frozen_history.history['val_accuracy'], label='Frozen Layers')\n",
    "plt.plot(unfrozen_history.history['val_accuracy'], label='Unfrozen Layers')\n",
    "plt.title('Model Accuracy')\n",
    "plt.ylabel('Accuracy')\n",
    "plt.xlabel('Epoch')\n",
    "plt.legend()\n",
    "plt.show()\n"
   ]
  }
 ],
 "metadata": {
  "kernelspec": {
   "display_name": "Python 3",
   "language": "python",
   "name": "python3"
  },
  "language_info": {
   "codemirror_mode": {
    "name": "ipython",
    "version": 3
   },
   "file_extension": ".py",
   "mimetype": "text/x-python",
   "name": "python",
   "nbconvert_exporter": "python",
   "pygments_lexer": "ipython3",
   "version": "3.11.2"
  },
  "orig_nbformat": 4
 },
 "nbformat": 4,
 "nbformat_minor": 2
}
